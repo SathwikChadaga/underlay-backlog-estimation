{
 "cells": [
  {
   "cell_type": "code",
   "execution_count": 14,
   "metadata": {},
   "outputs": [],
   "source": [
    "import numpy as np\n",
    "\n",
    "import utils.network as network_class\n",
    "import utils.lstm_model as lstm_model_class\n",
    "import utils.model_trainer as model_trainer_class\n",
    "import utils.data_processer as data_processer_functions\n",
    "\n",
    "import torch\n",
    "import torch.nn as nn\n",
    "\n",
    "from importlib import reload\n",
    "from tqdm import trange\n",
    "from pprint import pprint\n",
    "from sklearn.metrics import mean_squared_error\n",
    "from sklearn.metrics import mean_absolute_percentage_error"
   ]
  },
  {
   "cell_type": "code",
   "execution_count": 15,
   "metadata": {},
   "outputs": [
    {
     "name": "stdout",
     "output_type": "stream",
     "text": [
      "NVIDIA GeForce RTX 2080 Ti\n",
      "CUDA Version 11.3\n",
      "PyTorch Version 1.12.1\n"
     ]
    }
   ],
   "source": [
    "print(torch.cuda.get_device_name(torch.cuda.current_device()))\n",
    "print('CUDA Version', torch.version.cuda)\n",
    "print('PyTorch Version', torch.__version__)"
   ]
  },
  {
   "cell_type": "markdown",
   "metadata": {},
   "source": [
    "# Define Network"
   ]
  },
  {
   "cell_type": "markdown",
   "metadata": {},
   "source": [
    "### Network Level Parameters"
   ]
  },
  {
   "cell_type": "code",
   "execution_count": 3,
   "metadata": {},
   "outputs": [],
   "source": [
    "num_nodes = 5\n",
    "num_edges = 5\n",
    "\n",
    "adjacency_nodexedge = np.zeros([num_nodes, num_edges]) # node x edge adjacency matrix of the network (with all tunnels)\n",
    "adjacency_nodexedge = np.array([[-1,0,0,0,0], # -1 => node is edge's source\n",
    "                                [1,-1,-1,0,0], # 1 => node is edge's destination\n",
    "                                [0,1,0,-1,0],\n",
    "                                [0,0,1,1,-1],\n",
    "                                [0,0,0,0,1]])"
   ]
  },
  {
   "cell_type": "markdown",
   "metadata": {},
   "source": [
    "### Tunnel Level Parameters"
   ]
  },
  {
   "cell_type": "code",
   "execution_count": 4,
   "metadata": {},
   "outputs": [],
   "source": [
    "num_tunnels = 2\n",
    "\n",
    "is_edge_in_tunnel      = np.zeros([num_tunnels, num_edges, ])\n",
    "external_arrival_rates = np.zeros([num_tunnels, num_nodes, ])\n",
    "overlay_service_rates  = np.zeros([num_tunnels, num_edges, ])\n",
    "underlay_service_rates = np.zeros([num_tunnels, num_edges, ])\n",
    "\n",
    "# tunnel 0\n",
    "is_edge_in_tunnel[0,:]      = np.array([1,1,0,1,1]) # 1 => edge is a part of the tunnel, 0 => otherwise\n",
    "external_arrival_rates[0,:] = np.array([0.9,0,0,0,0])\n",
    "overlay_service_rates[0,:]  = np.array([1,0,0,0,0])\n",
    "underlay_service_rates[0,:] = np.array([0,1,0,1,1])\n",
    "\n",
    "# tunnel 1\n",
    "is_edge_in_tunnel[1,:]      = np.array([1,0,1,0,1]) # 1 => edge is a part of the tunnel, 0 => otherwise\n",
    "external_arrival_rates[1,:] = np.array([0.9,0,0,0,0])\n",
    "overlay_service_rates[1,:]  = np.array([1,0,0,0,0])\n",
    "underlay_service_rates[1,:] = np.array([0,0,1,0,1])"
   ]
  },
  {
   "cell_type": "markdown",
   "metadata": {},
   "source": [
    "### Get Network Class"
   ]
  },
  {
   "cell_type": "code",
   "execution_count": 5,
   "metadata": {},
   "outputs": [],
   "source": [
    "reload(network_class)\n",
    "my_network = network_class.Network(\n",
    "    num_tunnels,\n",
    "    num_nodes,\n",
    "    num_edges,\n",
    "    adjacency_nodexedge,\n",
    "    is_edge_in_tunnel, \n",
    "    underlay_service_rates,\n",
    "    external_arrival_rates)"
   ]
  },
  {
   "cell_type": "code",
   "execution_count": 6,
   "metadata": {},
   "outputs": [
    {
     "data": {
      "image/png": "[encoded data removed]",
      "text/plain": [
       "<Figure size 640x480 with 1 Axes>"
      ]
     },
     "metadata": {},
     "output_type": "display_data"
    }
   ],
   "source": [
    "my_network.visualize(custom_seed = 1)"
   ]
  },
  {
   "cell_type": "markdown",
   "metadata": {},
   "source": [
    "# Simulate Network"
   ]
  },
  {
   "cell_type": "code",
   "execution_count": 7,
   "metadata": {},
   "outputs": [],
   "source": [
    "packets_in_flight, tunnel_backlogs = my_network.simulate(overlay_service_rates, total_time = 100000, custom_seed = 5)"
   ]
  },
  {
   "cell_type": "markdown",
   "metadata": {},
   "source": [
    "# Model Training"
   ]
  },
  {
   "cell_type": "code",
   "execution_count": 8,
   "metadata": {},
   "outputs": [],
   "source": [
    "def prepare_data(device, tunnel_backlogs, packets_in_flight, look_back):\n",
    "    # class to split data, scale data, and rescale data\n",
    "    data_processer = data_processer_functions.DataProcessor()\n",
    "\n",
    "    # create time series sequences with given look_back hyperparameter\n",
    "    x_all = data_processer.create_sequences(torch.Tensor(packets_in_flight), look_back).to(device)\n",
    "    y_all = torch.Tensor(tunnel_backlogs).to(device)\n",
    "\n",
    "    # split into train and test\n",
    "    x_train_unscaled, y_train_unscaled, x_test_unscaled, y_test_unscaled = data_processer.split_train_test(x_all, y_all)\n",
    "\n",
    "    # rescale to [0,1]\n",
    "    x_train, y_train = data_processer.scale_train(x_train_unscaled, y_train_unscaled, is_x_sequenced = True)\n",
    "    x_test, y_test = data_processer.scale_test(x_test_unscaled, y_test_unscaled)\n",
    "\n",
    "    return data_processer, x_train, y_train, x_test, y_test"
   ]
  },
  {
   "cell_type": "code",
   "execution_count": 9,
   "metadata": {},
   "outputs": [],
   "source": [
    "def define_and_train_model(device, hidden_sizes, learning_rate, num_epochs, x_train, y_train):\n",
    "    # seeds  for reproducibility\n",
    "    np.random.seed(0)\n",
    "    torch.manual_seed(0)\n",
    "\n",
    "    # define model with given hidden_sizes\n",
    "    input_size  = x_train.shape[-1]\n",
    "    output_size = y_train.shape[-1]\n",
    "    lstm_predictor = lstm_model_class.LSTMModel(input_size, hidden_sizes, output_size).to(device)\n",
    "\n",
    "    # define tools for training with given hyperparameters\n",
    "    trainer = model_trainer_class.modelTrainer(criterion = nn.MSELoss(), device = device)\n",
    "    optimizer = torch.optim.Adam(lstm_predictor.parameters(), lr = learning_rate)\n",
    "\n",
    "    # training loop\n",
    "    pbar = trange(num_epochs)\n",
    "    for epoch in pbar:\n",
    "        # perform a training epoch using full x_train dataset\n",
    "        # (future): if x_train is too large, break into batches, and use batches x_batch instead \n",
    "        loss_value = trainer.batch_step(lstm_predictor, x_train, y_train, optimizer) \n",
    "        pbar.set_postfix({'epoch': f'{epoch+1}/{num_epochs}', 'loss': loss_value, 'look_back': x_train.shape[1], 'hidden_sizes': str(hidden_sizes), 'learning_rate': learning_rate})\n",
    "\n",
    "    return lstm_predictor"
   ]
  },
  {
   "cell_type": "code",
   "execution_count": 10,
   "metadata": {},
   "outputs": [],
   "source": [
    "def get_error_rates(lstm_predictor, x, y, data_processer):\n",
    "    # get predictions\n",
    "    y_pred = lstm_predictor.evaluate(x)\n",
    "\n",
    "    # rescale back to queue sizes\n",
    "    _, y_pred_unscaled = data_processer.inverse_scale(x_scaled=0, y_scaled=y_pred)\n",
    "    _, y_unscaled = data_processer.inverse_scale(x_scaled=0, y_scaled=y)\n",
    "    y_pred_unscaled = y_pred_unscaled.cpu().numpy()\n",
    "    y_unscaled = y_unscaled.cpu().numpy()\n",
    "\n",
    "    # calculate root mean squared error, max absolute percentage error, and relative error\n",
    "    rmse = mean_squared_error(y_unscaled, y_pred_unscaled, squared = False) # print('RMS error = ', np.sqrt(np.mean((Y_predicted-Y)**2)))\n",
    "    mape = mean_absolute_percentage_error(y_unscaled[y_unscaled>0], y_pred_unscaled[y_unscaled>0])\n",
    "    relerr = 100*np.mean(np.abs(y_pred_unscaled-y_unscaled)[y_unscaled>0]/y_unscaled[y_unscaled>0])\n",
    "\n",
    "    error_rates = {'rmse': rmse,\n",
    "                   'mape': mape,\n",
    "                   'relerr': relerr}\n",
    "\n",
    "    return error_rates, y_unscaled, y_pred_unscaled"
   ]
  },
  {
   "cell_type": "code",
   "execution_count": 11,
   "metadata": {},
   "outputs": [],
   "source": [
    "def train_model_and_get_performance(device, tunnel_backlogs, packets_in_flight, look_back, hidden_sizes, learning_rate, num_epochs):\n",
    "    # prepare data\n",
    "    data_processer, x_train, y_train, x_test, y_test = prepare_data(device, tunnel_backlogs, packets_in_flight, look_back)\n",
    "\n",
    "    # define and train model\n",
    "    lstm_predictor = define_and_train_model(device, hidden_sizes, learning_rate, num_epochs, x_train, y_train)\n",
    "\n",
    "    # get performance metrics\n",
    "    train_error_rates, _, _ = get_error_rates(lstm_predictor, x_train, y_train, data_processer)\n",
    "    test_error_rates, _, _ = get_error_rates(lstm_predictor, x_test, y_test, data_processer)\n",
    "    error_metrics = {'train': train_error_rates, 'test': test_error_rates}\n",
    "    \n",
    "    return lstm_predictor, error_metrics"
   ]
  },
  {
   "cell_type": "code",
   "execution_count": 12,
   "metadata": {},
   "outputs": [
    {
     "name": "stderr",
     "output_type": "stream",
     "text": [
      "100%|█| 200/200 [00:03<00:00, 60.92it/s, epoch=200/200, loss=0.00166, look_back=5, hidden_sizes=[5], learning_rate=0.01\n",
      "100%|█| 200/200 [00:02<00:00, 69.20it/s, epoch=200/200, loss=0.00177, look_back=5, hidden_sizes=[5], learning_rate=0.00\n",
      "100%|█| 200/200 [00:02<00:00, 68.45it/s, epoch=200/200, loss=0.00282, look_back=5, hidden_sizes=[5], learning_rate=0.00\n"
     ]
    }
   ],
   "source": [
    "reload(data_processer_functions)\n",
    "reload(lstm_model_class)\n",
    "reload(model_trainer_class)\n",
    "\n",
    "device = torch.device('cuda' if torch.cuda.is_available() else 'cpu')\n",
    "\n",
    "# create hyperparamer lists to explore\n",
    "look_back_list = [5, 10]\n",
    "hidden_sizes_list = [[5], [10], [5,5], [5,10], [10,5], [10,10]]\n",
    "learning_rate_list = [1e-2, 5e-3, 1e-3]\n",
    "num_epochs = 200\n",
    "saved_models = []\n",
    "\n",
    "for look_back in look_back_list:\n",
    "    for hidden_sizes in hidden_sizes_list:\n",
    "        for learning_rate in learning_rate_list:\n",
    "            # train and test the model\n",
    "            model, error_metrics = train_model_and_get_performance(device, tunnel_backlogs, packets_in_flight, look_back, hidden_sizes, learning_rate, num_epochs)\n",
    "\n",
    "            # save trained model\n",
    "            saved_models.append({\n",
    "                        'model' : model,\n",
    "                        'look_back': look_back,\n",
    "                        'learning_rate': learning_rate,\n",
    "                        'hidden_size' : hidden_sizes,\n",
    "                        'error_metrics': error_metrics\n",
    "                    })\n",
    "            \n",
    "# sort models according to best test rmse error\n",
    "saved_models.sort(key = lambda x: (x['error_metrics']['test']['rmse'], x['error_metrics']['test']['relerr'])) # (future): technically should have validation data and sort according to that "
   ]
  },
  {
   "cell_type": "code",
   "execution_count": 13,
   "metadata": {},
   "outputs": [
    {
     "name": "stdout",
     "output_type": "stream",
     "text": [
      "Best model:\n",
      "{'error_metrics': {'test': {'mape': 0.08736526,\n",
      "                            'relerr': 8.736526221036911,\n",
      "                            'rmse': 5.4725804},\n",
      "                   'train': {'mape': 0.088558696,\n",
      "                             'relerr': 8.855869621038437,\n",
      "                             'rmse': 5.7612967}},\n",
      " 'hidden_size': [5],\n",
      " 'learning_rate': 0.01,\n",
      " 'look_back': 5,\n",
      " 'model': LSTMModel(\n",
      "  (hidden_layers): ModuleList(\n",
      "    (0): LSTM(2, 5, batch_first=True)\n",
      "  )\n",
      "  (output_layer): Linear(in_features=5, out_features=2, bias=True)\n",
      ")}\n"
     ]
    }
   ],
   "source": [
    "print('Best model:')\n",
    "pprint(saved_models[0])"
   ]
  },
  {
   "cell_type": "code",
   "execution_count": null,
   "metadata": {},
   "outputs": [],
   "source": []
  },
  {
   "cell_type": "code",
   "execution_count": null,
   "metadata": {},
   "outputs": [],
   "source": []
  }
 ],
 "metadata": {
  "kernelspec": {
   "display_name": "Python (env_chadaga)",
   "language": "python",
   "name": "env_chadaga"
  }
 },
 "nbformat": 4,
 "nbformat_minor": 2
}
