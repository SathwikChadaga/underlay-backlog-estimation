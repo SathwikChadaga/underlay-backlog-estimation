{
 "cells": [
  {
   "cell_type": "markdown",
   "metadata": {},
   "source": [
    "# MARS Algorithm\n",
    "The following code is running on an Anaconda environment with Python 3.8 using Numpy 1.21.5 and Scipy 1.10.1\n",
    "\n",
    "These specifications are required to run the py-earth contribution to scikit-learn, the package that has an implementation of the MARS algorithm"
   ]
  },
  {
   "cell_type": "code",
   "execution_count": 2,
   "metadata": {
    "id": "oTBBzWQ8m6no"
   },
   "outputs": [
    {
     "name": "stdout",
     "output_type": "stream",
     "text": [
      "Intel MKL WARNING: Support of Intel(R) Streaming SIMD Extensions 4.2 (Intel(R) SSE4.2) enabled only processors has been deprecated. Intel oneAPI Math Kernel Library 2025.0 will require Intel(R) Advanced Vector Extensions (Intel(R) AVX) instructions.\n",
      "Intel MKL WARNING: Support of Intel(R) Streaming SIMD Extensions 4.2 (Intel(R) SSE4.2) enabled only processors has been deprecated. Intel oneAPI Math Kernel Library 2025.0 will require Intel(R) Advanced Vector Extensions (Intel(R) AVX) instructions.\n"
     ]
    }
   ],
   "source": [
    "%matplotlib inline\n",
    "import numpy as np\n",
    "import math\n",
    "import matplotlib.pyplot as plt\n",
    "import os\n",
    "import sys\n",
    "import torch\n",
    "import torch.nn as nn\n",
    "\n",
    "from importlib import reload\n",
    "from tqdm import trange\n",
    "from pprint import pprint\n",
    "from datetime import datetime\n",
    "from sklearn.metrics import mean_squared_error\n",
    "from sklearn.metrics import mean_absolute_percentage_error\n",
    "\n",
    "# try:\n",
    "#     from google.colab import drive\n",
    "#     IN_COLAB = True\n",
    "\n",
    "# except ImportError:\n",
    "#     IN_COLAB = False\n",
    "# if IN_COLAB:\n",
    "#   # Check if the directory exists (change '/content/drive' to your directory)\n",
    "#   drive_dir = '/content/drive'\n",
    "#   drive_mounted = os.path.isdir(drive_dir)\n",
    "\n",
    "#   # Conditionally mount the drive\n",
    "#   if not drive_mounted:\n",
    "#       drive.mount('/content/drive')"
   ]
  },
  {
   "cell_type": "code",
   "execution_count": 3,
   "metadata": {
    "id": "KgwV45DXVR5u"
   },
   "outputs": [],
   "source": [
    "# sys.path.insert(0, './underlay-backlog-estimation')\n",
    "import utils.network as network_class\n",
    "import utils.lstm_model as lstm_model_class\n",
    "import utils.model_trainer as model_trainer_class\n",
    "import utils.data_processer as data_processer_functions"
   ]
  },
  {
   "cell_type": "code",
   "execution_count": 4,
   "metadata": {
    "id": "EYTlBaGNeRh6"
   },
   "outputs": [],
   "source": [
    "# class Network:\n",
    "#   def __init__(\n",
    "#     self,\n",
    "#     k_tunnels,\n",
    "#     n_nodes,\n",
    "#     m_edges,\n",
    "#     underlay_service_rates,\n",
    "#     external_arrival_rates,\n",
    "#     tunnel_edge2node_adjacencies\n",
    "#   ):\n",
    "#     self.k_tunnels = k_tunnels\n",
    "#     self.n_nodes = n_nodes\n",
    "#     self.m_edges = m_edges\n",
    "#     self.underlay_service_rates = underlay_service_rates\n",
    "#     self.external_arrival_rates = external_arrival_rates\n",
    "#     self.tunnel_edge2node_adjacencies = tunnel_edge2node_adjacencies\n",
    "#     self.time = 0\n",
    "\n",
    "#   def reset(self):\n",
    "#     self.queue_backlogs = np.zeros([self.k_tunnels, self.n_nodes,])\n",
    "#     self.time = 0\n",
    "#     return self.queue_backlogs, self.time\n",
    "\n",
    "#   def act(self):\n",
    "#     return\n",
    "\n",
    "#   def step(self, overlay_offered_rates):\n",
    "\n",
    "#     # handle each tunnel as though it is a different network\n",
    "#     for tt in range(self.k_tunnels):\n",
    "#       # if(tt == 1):\n",
    "#       #   print('t = ' + str(self.time))\n",
    "#       #   print('Q(t) = ' + str(self.queue_backlogs[tt,:]))\n",
    "\n",
    "#       # external arrivals\n",
    "#       external_arrivals = np.random.poisson(self.external_arrival_rates[tt,:], self.n_nodes)\n",
    "#       self.queue_backlogs[tt,:] += external_arrivals\n",
    "\n",
    "#       # flows along edges\n",
    "#       all_offered_rates = np.random.poisson(self.underlay_service_rates[tt,:], self.m_edges) + overlay_offered_rates[tt,:]\n",
    "\n",
    "#       # make sure flows are not greater than current queue size\n",
    "#       actual_rates = np.min(np.vstack(((self.tunnel_edge2node_adjacencies[tt,:,:].T < 0)@self.queue_backlogs[tt,:], all_offered_rates)), axis=0)\n",
    "\n",
    "#       # apply flows\n",
    "#       self.queue_backlogs[tt,:] += self.tunnel_edge2node_adjacencies[tt,:,:]@actual_rates\n",
    "#       self.queue_backlogs[tt, self.queue_backlogs[tt,:] < 0] = 0\n",
    "#       # if(tt == 1):\n",
    "#       #   print('External arrivals = ' + str(external_arrivals))\n",
    "#       #   print('Offered rates = ' + str(all_offered_rates))\n",
    "#       #   print('Actual rates = ' + str(actual_rates))\n",
    "#       #   print('Q(t+1) = ' + str(self.queue_backlogs[tt,:]))\n",
    "#       #   print(' ')\n",
    "\n",
    "#       # the destination queue is a sink\n",
    "#       self.queue_backlogs[tt, -1] = 0\n",
    "\n",
    "#     self.time += 1\n",
    "#     return self.queue_backlogs, self.time"
   ]
  },
  {
   "cell_type": "code",
   "execution_count": 5,
   "metadata": {
    "id": "309WC9u4pICZ"
   },
   "outputs": [],
   "source": [
    "num_nodes = 5\n",
    "num_edges = 5\n",
    "\n",
    "adjacency_nodexedge = np.zeros([num_nodes, num_edges]) # node x edge adjacency matrix of the network (with all tunnels)\n",
    "adjacency_nodexedge = np.array([[-1,0,0,0,0], # -1 => node is edge's source\n",
    "                                [1,-1,-1,0,0], # 1 => node is edge's destination\n",
    "                                [0,1,0,-1,0],\n",
    "                                [0,0,1,1,-1],\n",
    "                                [0,0,0,0,1]])"
   ]
  },
  {
   "cell_type": "code",
   "execution_count": 6,
   "metadata": {
    "id": "q9ObFpVGuquO"
   },
   "outputs": [],
   "source": [
    "# Tunnel level parameters\n",
    "num_tunnels = 2\n",
    "\n",
    "is_edge_in_tunnel      = np.zeros([num_tunnels, num_edges, ])\n",
    "external_arrival_rates = np.zeros([num_tunnels, num_nodes, ])\n",
    "overlay_service_rates  = np.zeros([num_tunnels, num_edges, ])\n",
    "underlay_service_rates = np.zeros([num_tunnels, num_edges, ])\n",
    "\n",
    "# tunnel 0\n",
    "is_edge_in_tunnel[0,:]      = np.array([1,1,0,1,1]) # 1 => edge is a part of the tunnel, 0 => otherwise\n",
    "external_arrival_rates[0,:] = np.array([0.9,0,0,0,0])\n",
    "overlay_service_rates[0,:]  = np.array([1,0,0,0,0])\n",
    "underlay_service_rates[0,:] = np.array([0,1,0,1,1])\n",
    "\n",
    "# tunnel 1\n",
    "is_edge_in_tunnel[1,:]      = np.array([1,0,1,0,1]) # 1 => edge is a part of the tunnel, 0 => otherwise\n",
    "external_arrival_rates[1,:] = np.array([0.9,0,0,0,0])\n",
    "overlay_service_rates[1,:]  = np.array([1,0,0,0,0])\n",
    "underlay_service_rates[1,:] = np.array([0,0,1,0,1])"
   ]
  },
  {
   "cell_type": "code",
   "execution_count": 7,
   "metadata": {
    "id": "Sv6wQqBXuvTv"
   },
   "outputs": [],
   "source": [
    "#get network class\n",
    "reload(network_class)\n",
    "my_network = network_class.Network(\n",
    "    num_tunnels,\n",
    "    num_nodes,\n",
    "    num_edges,\n",
    "    adjacency_nodexedge,\n",
    "    is_edge_in_tunnel,\n",
    "    underlay_service_rates,\n",
    "    external_arrival_rates)\n"
   ]
  },
  {
   "cell_type": "code",
   "execution_count": 8,
   "metadata": {
    "colab": {
     "base_uri": "https://localhost:8080/",
     "height": 428
    },
    "id": "8blsiK2Xvnus",
    "outputId": "730538e5-6993-4949-c213-4b5e71ee89cc"
   },
   "outputs": [
    {
     "data": {
      "image/png": "[encoded data removed]",
      "text/plain": [
       "<Figure size 640x480 with 1 Axes>"
      ]
     },
     "metadata": {},
     "output_type": "display_data"
    }
   ],
   "source": [
    "my_network.visualize(custom_seed = 1)\n"
   ]
  },
  {
   "cell_type": "code",
   "execution_count": 9,
   "metadata": {
    "id": "5vDojG6gZ-xE"
   },
   "outputs": [],
   "source": [
    "#simulate Network\n",
    "packets_in_flight, tunnel_backlogs = my_network.simulate(overlay_service_rates, total_time = 100000, custom_seed = 5)\n",
    "X,y=(packets_in_flight,tunnel_backlogs)"
   ]
  },
  {
   "cell_type": "code",
   "execution_count": 10,
   "metadata": {
    "colab": {
     "base_uri": "https://localhost:8080/",
     "height": 384
    },
    "id": "ygYl7GFkyMTT",
    "outputId": "cc6b9b28-ab88-48ef-fe88-9dad63052c50"
   },
   "outputs": [],
   "source": [
    "from pyearth import Earth\n",
    "from sklearn.datasets import make_regression\n",
    "from sklearn.model_selection import train_test_split\n",
    "import matplotlib.pyplot as plt\n",
    "\n",
    "\n",
    "# Split the data into training and testing sets\n",
    "X_train, X_test, y_train, y_test = train_test_split(X, y, test_size=0.2, random_state=42)\n"
   ]
  },
  {
   "cell_type": "code",
   "execution_count": 11,
   "metadata": {
    "id": "PTQM2RuzOfMK"
   },
   "outputs": [
    {
     "data": {
      "text/html": [
       "<style>#sk-container-id-1 {color: black;}#sk-container-id-1 pre{padding: 0;}#sk-container-id-1 div.sk-toggleable {background-color: white;}#sk-container-id-1 label.sk-toggleable__label {cursor: pointer;display: block;width: 100%;margin-bottom: 0;padding: 0.3em;box-sizing: border-box;text-align: center;}#sk-container-id-1 label.sk-toggleable__label-arrow:before {content: \"▸\";float: left;margin-right: 0.25em;color: #696969;}#sk-container-id-1 label.sk-toggleable__label-arrow:hover:before {color: black;}#sk-container-id-1 div.sk-estimator:hover label.sk-toggleable__label-arrow:before {color: black;}#sk-container-id-1 div.sk-toggleable__content {max-height: 0;max-width: 0;overflow: hidden;text-align: left;background-color: #f0f8ff;}#sk-container-id-1 div.sk-toggleable__content pre {margin: 0.2em;color: black;border-radius: 0.25em;background-color: #f0f8ff;}#sk-container-id-1 input.sk-toggleable__control:checked~div.sk-toggleable__content {max-height: 200px;max-width: 100%;overflow: auto;}#sk-container-id-1 input.sk-toggleable__control:checked~label.sk-toggleable__label-arrow:before {content: \"▾\";}#sk-container-id-1 div.sk-estimator input.sk-toggleable__control:checked~label.sk-toggleable__label {background-color: #d4ebff;}#sk-container-id-1 div.sk-label input.sk-toggleable__control:checked~label.sk-toggleable__label {background-color: #d4ebff;}#sk-container-id-1 input.sk-hidden--visually {border: 0;clip: rect(1px 1px 1px 1px);clip: rect(1px, 1px, 1px, 1px);height: 1px;margin: -1px;overflow: hidden;padding: 0;position: absolute;width: 1px;}#sk-container-id-1 div.sk-estimator {font-family: monospace;background-color: #f0f8ff;border: 1px dotted black;border-radius: 0.25em;box-sizing: border-box;margin-bottom: 0.5em;}#sk-container-id-1 div.sk-estimator:hover {background-color: #d4ebff;}#sk-container-id-1 div.sk-parallel-item::after {content: \"\";width: 100%;border-bottom: 1px solid gray;flex-grow: 1;}#sk-container-id-1 div.sk-label:hover label.sk-toggleable__label {background-color: #d4ebff;}#sk-container-id-1 div.sk-serial::before {content: \"\";position: absolute;border-left: 1px solid gray;box-sizing: border-box;top: 0;bottom: 0;left: 50%;z-index: 0;}#sk-container-id-1 div.sk-serial {display: flex;flex-direction: column;align-items: center;background-color: white;padding-right: 0.2em;padding-left: 0.2em;position: relative;}#sk-container-id-1 div.sk-item {position: relative;z-index: 1;}#sk-container-id-1 div.sk-parallel {display: flex;align-items: stretch;justify-content: center;background-color: white;position: relative;}#sk-container-id-1 div.sk-item::before, #sk-container-id-1 div.sk-parallel-item::before {content: \"\";position: absolute;border-left: 1px solid gray;box-sizing: border-box;top: 0;bottom: 0;left: 50%;z-index: -1;}#sk-container-id-1 div.sk-parallel-item {display: flex;flex-direction: column;z-index: 1;position: relative;background-color: white;}#sk-container-id-1 div.sk-parallel-item:first-child::after {align-self: flex-end;width: 50%;}#sk-container-id-1 div.sk-parallel-item:last-child::after {align-self: flex-start;width: 50%;}#sk-container-id-1 div.sk-parallel-item:only-child::after {width: 0;}#sk-container-id-1 div.sk-dashed-wrapped {border: 1px dashed gray;margin: 0 0.4em 0.5em 0.4em;box-sizing: border-box;padding-bottom: 0.4em;background-color: white;}#sk-container-id-1 div.sk-label label {font-family: monospace;font-weight: bold;display: inline-block;line-height: 1.2em;}#sk-container-id-1 div.sk-label-container {text-align: center;}#sk-container-id-1 div.sk-container {/* jupyter's `normalize.less` sets `[hidden] { display: none; }` but bootstrap.min.css set `[hidden] { display: none !important; }` so we also need the `!important` here to be able to override the default hidden behavior on the sphinx rendered scikit-learn.org. See: https://github.com/scikit-learn/scikit-learn/issues/21755 */display: inline-block !important;position: relative;}#sk-container-id-1 div.sk-text-repr-fallback {display: none;}</style><div id=\"sk-container-id-1\" class=\"sk-top-container\"><div class=\"sk-text-repr-fallback\"><pre>Earth()</pre><b>In a Jupyter environment, please rerun this cell to show the HTML representation or trust the notebook. <br />On GitHub, the HTML representation is unable to render, please try loading this page with nbviewer.org.</b></div><div class=\"sk-container\" hidden><div class=\"sk-item\"><div class=\"sk-estimator sk-toggleable\"><input class=\"sk-toggleable__control sk-hidden--visually\" id=\"sk-estimator-id-1\" type=\"checkbox\" checked><label for=\"sk-estimator-id-1\" class=\"sk-toggleable__label sk-toggleable__label-arrow\">Earth</label><div class=\"sk-toggleable__content\"><pre>Earth()</pre></div></div></div></div></div>"
      ],
      "text/plain": [
       "Earth()"
      ]
     },
     "execution_count": 11,
     "metadata": {},
     "output_type": "execute_result"
    }
   ],
   "source": [
    "model = Earth()\n",
    "model.fit(X_train, y_train)\n"
   ]
  },
  {
   "cell_type": "code",
   "execution_count": 12,
   "metadata": {},
   "outputs": [],
   "source": [
    "# Predict on the test set\n",
    "y_pred = model.predict(X_test)\n"
   ]
  },
  {
   "cell_type": "code",
   "execution_count": 13,
   "metadata": {},
   "outputs": [
    {
     "name": "stdout",
     "output_type": "stream",
     "text": [
      "Earth Model\n",
      "------------------------------------------------------\n",
      "Basis Function  Pruned  Coefficient 0  Coefficient 1  \n",
      "------------------------------------------------------\n",
      "(Intercept)     No      0.0344751      0.00764089     \n",
      "x1              No      1.9997         1.78891        \n",
      "h(x0-116)       No      1              11.2823        \n",
      "h(116-x0)       No      -1             -0.799677      \n",
      "h(x1-116)       No      -0.999703      1.6861         \n",
      "h(116-x1)       No      0.999703       0.783532       \n",
      "------------------------------------------------------\n",
      "MSE: 32.7161, GCV: 32.7272, RSQ: 0.9521, GRSQ: 0.9521\n"
     ]
    }
   ],
   "source": [
    "# Display model summary\n",
    "print(model.summary())"
   ]
  },
  {
   "cell_type": "code",
   "execution_count": 14,
   "metadata": {},
   "outputs": [
    {
     "data": {
      "image/png": "[encoded data removed]",
      "text/plain": [
       "<Figure size 640x480 with 1 Axes>"
      ]
     },
     "metadata": {},
     "output_type": "display_data"
    }
   ],
   "source": [
    "fig,ax=plt.subplots()\n",
    "plt.scatter(X_test[:,1][1000:1050], y_test[:,1][1000:1050], color='blue', label='Actual')\n",
    "plt.scatter(X_test[:,1][1000:1050], y_pred[:,1][1000:1050], color='red', label='Predicted')\n",
    "plt.legend()\n",
    "\n",
    "# Connecting points with the same x-values\n",
    "for x, y1, y2 in zip(X_test[1000:1050], y_test[1000:1050], y_pred[1000:1050]):\n",
    "    plt.plot([x, x], [y1, y2], color='green', linestyle='-', linewidth=1)\n",
    "\n",
    "\n",
    "plt.show()"
   ]
  },
  {
   "cell_type": "code",
   "execution_count": null,
   "metadata": {},
   "outputs": [],
   "source": []
  }
 ],
 "metadata": {
  "accelerator": "GPU",
  "colab": {
   "gpuType": "T4",
   "provenance": []
  },
  "kernelspec": {
   "display_name": "Python 3 (ipykernel)",
   "language": "python",
   "name": "python3"
  },
  "language_info": {
   "codemirror_mode": {
    "name": "ipython",
    "version": 3
   },
   "file_extension": ".py",
   "mimetype": "text/x-python",
   "name": "python",
   "nbconvert_exporter": "python",
   "pygments_lexer": "ipython3",
   "version": "3.8.18"
  }
 },
 "nbformat": 4,
 "nbformat_minor": 1
}
