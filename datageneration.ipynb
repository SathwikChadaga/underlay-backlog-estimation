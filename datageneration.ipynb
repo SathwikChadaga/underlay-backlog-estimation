{
 "cells": [
  {
   "cell_type": "code",
   "execution_count": 1,
   "metadata": {},
   "outputs": [],
   "source": [
    "import numpy as np\n",
    "import utils.network as network\n",
    "import pickle"
   ]
  },
  {
   "cell_type": "markdown",
   "metadata": {},
   "source": [
    "# Define Network"
   ]
  },
  {
   "cell_type": "code",
   "execution_count": 2,
   "metadata": {},
   "outputs": [],
   "source": [
    "num_nodes = 5\n",
    "num_edges = 5\n",
    "num_tunnels = 2\n",
    "\n",
    "tunnel_edge2node_adjacencies = np.zeros([num_tunnels, num_nodes, num_edges])\n",
    "external_arrival_rates = np.zeros([num_tunnels, num_nodes, ])\n",
    "overlay_service_rates = np.zeros([num_tunnels, num_edges, ])\n",
    "underlay_service_rates = np.zeros([num_tunnels, num_edges, ])\n",
    "\n",
    "# tunnel 0\n",
    "tunnel_edge2node_adjacencies[0,:,:] = np.array([[-1,0,0,0,0],\n",
    "                                [1,-1,0,0,0],\n",
    "                                [0,1,0,-1,0],\n",
    "                                [0,0,0,1,-1],\n",
    "                                [0,0,0,0,1]])\n",
    "external_arrival_rates[0,:] = np.array([0.9,0,0,0,0])\n",
    "overlay_service_rates[0,:] = np.array([1,0,0,0,0])\n",
    "underlay_service_rates[0,:] = np.array([0,1,0,1,1])\n",
    "\n",
    "# tunnel 1\n",
    "tunnel_edge2node_adjacencies[1,:,:] = np.array([[-1,0,0,0,0],\n",
    "                                [1,0,-1,0,0],\n",
    "                                [0,0,0,0,0],\n",
    "                                [0,0,1,0,-1],\n",
    "                                [0,0,0,0,1]])\n",
    "external_arrival_rates[1,:] = np.array([0.9,0,0,0,0])\n",
    "overlay_service_rates[1,:] = np.array([1,0,0,0,0])\n",
    "underlay_service_rates[1,:] = np.array([0,0,1,0,1])"
   ]
  },
  {
   "cell_type": "code",
   "execution_count": 3,
   "metadata": {},
   "outputs": [],
   "source": [
    "adjacency_matrix = np.zeros([num_nodes, num_nodes])\n",
    "adjacency_matrix = np.array([[0,1,0,0,0],\n",
    "                              [-1,0,1,1,0],\n",
    "                              [0,-1,0,1,0],\n",
    "                              [0,-1,-1,0,0],\n",
    "                              [0,0,0,-1,0]])\n",
    "\n",
    "is_queue_in_tunnel = np.zeros([num_nodes, num_tunnels])\n",
    "is_queue_in_tunnel[:,0] = np.array([1,1,1,1,1])\n",
    "is_queue_in_tunnel[:,1] = np.array([1,1,0,1,1])"
   ]
  },
  {
   "cell_type": "markdown",
   "metadata": {},
   "source": [
    "### Get Network Class"
   ]
  },
  {
   "cell_type": "code",
   "execution_count": 4,
   "metadata": {},
   "outputs": [],
   "source": [
    "my_network = network.Network(num_tunnels,\n",
    "    num_nodes,\n",
    "    num_edges,\n",
    "    underlay_service_rates,\n",
    "    external_arrival_rates,\n",
    "    tunnel_edge2node_adjacencies)"
   ]
  },
  {
   "cell_type": "code",
   "execution_count": 5,
   "metadata": {},
   "outputs": [
    {
     "data": {
      "image/png": "[encoded data removed]",
      "text/plain": [
       "<Figure size 432x288 with 1 Axes>"
      ]
     },
     "metadata": {},
     "output_type": "display_data"
    }
   ],
   "source": [
    "my_network.visualize()"
   ]
  },
  {
   "cell_type": "code",
   "execution_count": 6,
   "metadata": {},
   "outputs": [],
   "source": [
    "packets_in_flight, tunnel_backlogs = my_network.simulate(overlay_service_rates, total_time = 10000, custom_seed = 5)"
   ]
  },
  {
   "cell_type": "code",
   "execution_count": 7,
   "metadata": {},
   "outputs": [],
   "source": [
    "file_name = 'my_save'\n",
    "np.save(file_name + '_packets_in_flight.npy', packets_in_flight)\n",
    "np.save(file_name + '_tunnel_backlogs.npy', tunnel_backlogs)\n",
    "with open(file_name + '_my_network.pkl', 'wb') as file:\n",
    "    pickle.dump(my_network, file)"
   ]
  },
  {
   "cell_type": "code",
   "execution_count": 8,
   "metadata": {},
   "outputs": [],
   "source": [
    "packets_in_flight_loaded = np.load(file_name + '_packets_in_flight.npy')\n",
    "tunnel_backlogs_loaded = np.load(file_name + '_tunnel_backlogs.npy')\n",
    "with open(file_name + '_my_network.pkl', 'rb') as file:\n",
    "    my_network_loaded = pickle.load(file)"
   ]
  },
  {
   "cell_type": "code",
   "execution_count": 9,
   "metadata": {},
   "outputs": [
    {
     "name": "stdout",
     "output_type": "stream",
     "text": [
      "Shape of packets in flight (X) = (10000, 2)\n",
      "Shape of total tunnel backlogs (Y) = (10000, 2)\n"
     ]
    },
    {
     "data": {
      "image/png": "[encoded data removed]",
      "text/plain": [
       "<Figure size 432x288 with 1 Axes>"
      ]
     },
     "metadata": {},
     "output_type": "display_data"
    }
   ],
   "source": [
    "print('Shape of packets in flight (X) = ' + str(packets_in_flight_loaded.shape))\n",
    "print('Shape of total tunnel backlogs (Y) = ' + str(tunnel_backlogs_loaded.shape))\n",
    "my_network_loaded.visualize()"
   ]
  }
 ],
 "metadata": {
  "kernelspec": {
   "display_name": "Python 3",
   "language": "python",
   "name": "python3"
  },
  "language_info": {
   "codemirror_mode": {
    "name": "ipython",
    "version": 3
   },
   "file_extension": ".py",
   "mimetype": "text/x-python",
   "name": "python",
   "nbconvert_exporter": "python",
   "pygments_lexer": "ipython3",
   "version": "3.10.2"
  }
 },
 "nbformat": 4,
 "nbformat_minor": 2
}
